{
 "cells": [
  {
   "cell_type": "code",
   "execution_count": 2,
   "metadata": {
    "colab": {
     "base_uri": "https://localhost:8080/",
     "height": 181
    },
    "colab_type": "code",
    "id": "nCbE3jDnOjBa",
    "outputId": "b4a48d01-6ba8-4162-cb5b-20525038906b"
   },
   "outputs": [
    {
     "name": "stdout",
     "output_type": "stream",
     "text": [
      "Requirement already satisfied: tensorboardx in /Users/haophancs/opt/anaconda3/envs/gnnex_old/lib/python3.6/site-packages (1.9)\n",
      "Requirement already satisfied: six in /Users/haophancs/opt/anaconda3/envs/gnnex_old/lib/python3.6/site-packages (from tensorboardx) (1.16.0)\n",
      "Requirement already satisfied: protobuf>=3.8.0 in /Users/haophancs/opt/anaconda3/envs/gnnex_old/lib/python3.6/site-packages (from tensorboardx) (3.19.4)\n",
      "Requirement already satisfied: numpy in /Users/haophancs/opt/anaconda3/envs/gnnex_old/lib/python3.6/site-packages (from tensorboardx) (1.19.5)\n"
     ]
    }
   ],
   "source": [
    "!pip install tensorboardx   "
   ]
  },
  {
   "cell_type": "code",
   "execution_count": 3,
   "metadata": {
    "colab": {},
    "colab_type": "code",
    "id": "Df5yHQFLS6yY"
   },
   "outputs": [
    {
     "name": "stdout",
     "output_type": "stream",
     "text": [
      "Traceback (most recent call last):\n",
      "  File \"/Users/haophancs/opt/anaconda3/envs/gnnex_old/lib/python3.6/runpy.py\", line 193, in _run_module_as_main\n",
      "    \"__main__\", mod_spec)\n",
      "  File \"/Users/haophancs/opt/anaconda3/envs/gnnex_old/lib/python3.6/runpy.py\", line 85, in _run_code\n",
      "    exec(code, run_globals)\n",
      "  File \"/Users/haophancs/Desktop/GNNExplainer-Experiments/train.py\", line 1179, in <module>\n",
      "    main()\n",
      "  File \"/Users/haophancs/Desktop/GNNExplainer-Experiments/train.py\", line 1161, in main\n",
      "    syn_task1(prog_args, writer=writer)\n",
      "  File \"/Users/haophancs/Desktop/GNNExplainer-Experiments/train.py\", line 618, in syn_task1\n",
      "    args=args,\n",
      "  File \"/Users/haophancs/Desktop/GNNExplainer-Experiments/models.py\", line 355, in __init__\n",
      "    args=args,\n",
      "  File \"/Users/haophancs/Desktop/GNNExplainer-Experiments/models.py\", line 121, in __init__\n",
      "    dropout=dropout,\n",
      "  File \"/Users/haophancs/Desktop/GNNExplainer-Experiments/models.py\", line 165, in build_conv_layers\n",
      "    att=self.att,\n",
      "  File \"/Users/haophancs/Desktop/GNNExplainer-Experiments/models.py\", line 39, in __init__\n",
      "    self.weight = nn.Parameter(torch.FloatTensor(input_dim, output_dim))\n",
      "  File \"/Users/haophancs/opt/anaconda3/envs/gnnex_old/lib/python3.6/site-packages/torch/cuda/__init__.py\", line 192, in _lazy_init\n",
      "    _check_driver()\n",
      "  File \"/Users/haophancs/opt/anaconda3/envs/gnnex_old/lib/python3.6/site-packages/torch/cuda/__init__.py\", line 95, in _check_driver\n",
      "    raise AssertionError(\"Torch not compiled with CUDA enabled\")\n",
      "AssertionError: Torch not compiled with CUDA enabled\n",
      "Traceback (most recent call last):\n",
      "  File \"/Users/haophancs/opt/anaconda3/envs/gnnex_old/lib/python3.6/runpy.py\", line 193, in _run_module_as_main\n",
      "    \"__main__\", mod_spec)\n",
      "  File \"/Users/haophancs/opt/anaconda3/envs/gnnex_old/lib/python3.6/runpy.py\", line 85, in _run_code\n",
      "    exec(code, run_globals)\n",
      "  File \"/Users/haophancs/Desktop/GNNExplainer-Experiments/explainer_main.py\", line 316, in <module>\n",
      "    main()\n",
      "  File \"/Users/haophancs/Desktop/GNNExplainer-Experiments/explainer_main.py\", line 193, in main\n",
      "    ckpt = io_utils.load_ckpt(prog_args)\n",
      "  File \"/Users/haophancs/Desktop/GNNExplainer-Experiments/utils/io_utils.py\", line 114, in load_ckpt\n",
      "    ckpt = torch.load(filename)\n",
      "  File \"/Users/haophancs/opt/anaconda3/envs/gnnex_old/lib/python3.6/site-packages/torch/serialization.py\", line 426, in load\n",
      "    return _load(f, map_location, pickle_module, **pickle_load_args)\n",
      "  File \"/Users/haophancs/opt/anaconda3/envs/gnnex_old/lib/python3.6/site-packages/torch/serialization.py\", line 613, in _load\n",
      "    result = unpickler.load()\n",
      "  File \"/Users/haophancs/opt/anaconda3/envs/gnnex_old/lib/python3.6/site-packages/torch/serialization.py\", line 576, in persistent_load\n",
      "    deserialized_objects[root_key] = restore_location(obj, location)\n",
      "  File \"/Users/haophancs/opt/anaconda3/envs/gnnex_old/lib/python3.6/site-packages/torch/serialization.py\", line 155, in default_restore_location\n",
      "    result = fn(storage, location)\n",
      "  File \"/Users/haophancs/opt/anaconda3/envs/gnnex_old/lib/python3.6/site-packages/torch/serialization.py\", line 131, in _cuda_deserialize\n",
      "    device = validate_cuda_device(location)\n",
      "  File \"/Users/haophancs/opt/anaconda3/envs/gnnex_old/lib/python3.6/site-packages/torch/serialization.py\", line 115, in validate_cuda_device\n",
      "    raise RuntimeError('Attempting to deserialize object on a CUDA '\n",
      "RuntimeError: Attempting to deserialize object on a CUDA device but torch.cuda.is_available() is False. If you are running on a CPU-only machine, please use torch.load with map_location=torch.device('cpu') to map your storages to the CPU.\n"
     ]
    }
   ],
   "source": [
    "!sh example.sh"
   ]
  },
  {
   "cell_type": "code",
   "execution_count": 4,
   "metadata": {
    "colab": {},
    "colab_type": "code",
    "id": "AJj293YROcJH"
   },
   "outputs": [
    {
     "data": {
      "text/html": [
       "\n",
       "      <iframe id=\"tensorboard-frame-59f150c2d370bd46\" width=\"100%\" height=\"800\" frameborder=\"0\">\n",
       "      </iframe>\n",
       "      <script>\n",
       "        (function() {\n",
       "          const frame = document.getElementById(\"tensorboard-frame-59f150c2d370bd46\");\n",
       "          const url = new URL(\"/\", window.location);\n",
       "          url.port = 6007;\n",
       "          frame.src = url;\n",
       "        })();\n",
       "      </script>\n",
       "  "
      ],
      "text/plain": [
       "<IPython.core.display.HTML object>"
      ]
     },
     "metadata": {},
     "output_type": "display_data"
    }
   ],
   "source": [
    "%load_ext tensorboard\n",
    "%tensorboard --logdir log"
   ]
  }
 ],
 "metadata": {
  "accelerator": "GPU",
  "colab": {
   "collapsed_sections": [],
   "name": "GNN-Explainer.ipynb",
   "provenance": []
  },
  "kernelspec": {
   "display_name": "Python 3",
   "language": "python",
   "name": "python3"
  },
  "language_info": {
   "codemirror_mode": {
    "name": "ipython",
    "version": 3
   },
   "file_extension": ".py",
   "mimetype": "text/x-python",
   "name": "python",
   "nbconvert_exporter": "python",
   "pygments_lexer": "ipython3",
   "version": "3.6.13"
  }
 },
 "nbformat": 4,
 "nbformat_minor": 1
}
